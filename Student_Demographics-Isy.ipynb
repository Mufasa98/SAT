{
 "cells": [
  {
   "cell_type": "code",
   "execution_count": 19,
   "id": "dc1f5f32",
   "metadata": {},
   "outputs": [],
   "source": [
    "# Dependencies\n",
    "import pandas as pd\n",
    "import numpy as np\n",
    "import requests\n",
    "import json\n",
    "from pprint import pprint\n",
    "\n",
    "# Import API key\n",
    "from doe_api import doe_key"
   ]
  },
  {
   "cell_type": "code",
   "execution_count": 2,
   "id": "efb9542e",
   "metadata": {},
   "outputs": [],
   "source": [
    "#demographics\n",
    "\n",
    "url = 'https://api.data.gov/ed/collegescorecard/v1/schools.json'\n",
    "params1 = {\n",
    "    'api_key': doe_key,\n",
    "    'per_page': 250,\n",
    "    'fields': \"id,location.lon,location.lat,latest.school.name,\"+\n",
    "    \n",
    "    \"latest.root.location.lon,latest.root.location,latest.school.zip,latest.student.size,latest.root.id,latest.school.region_id,\"+\n",
    "    #\"latest.aid.pell_grant_rate,latest.school.faculty_salary,latest.school.ft_faculty_rate,\"+\n",
    "    \n",
    "    #admissions test requirements\n",
    "    \"latest.admissions.test_requirements,\"+\n",
    "    'latest.admissions.admission_rate.overall,'+\n",
    "    \n",
    "    #completion rate demographics\n",
    "    'latest.completion.completion_rate_4yr_150nt,'+\n",
    "    #\"latest.completion.completion_rate_4yr_150_nhpi,\"+ \n",
    "    #\"latest.completion.completion_rate_4yr_150_aian,latest.completion.completion_rate_4yr_150_asian,\"+\n",
    "    #\"latest.completion.completion_rate_4yr_150_hispanic,latest.completion.completion_rate_4yr_150_black,\"+\n",
    "    #\"latest.completion.completion_rate_4yr_150_white,\"+\n",
    "    \n",
    "    \n",
    "    #student demographics\n",
    "    \"latest.student.demographics.race_ethnicity.white,latest.student.demographics.race_ethnicity.hispanic,\"+\n",
    "    \"latest.student.demographics.race_ethnicity.black,latest.student.demographics.race_ethnicity.api,\"+\n",
    "    \"latest.student.demographics.race_ethnicity.asian,\"+\n",
    "    \"latest.student.demographics.race_ethnicity.aian,latest.student.demographics.women,latest.student.demographics.men,\"+\n",
    "    \n",
    "    #median debt per demographic\n",
    "    #\"latest.aid.median_debt.income.30001_75000,latest.aid.median_debt.income.0_30000,latest.aid.median_debt.income.greater_than_75000,\"+\n",
    "    #\"latest.aid.median_debt.noncompleters,latest.aid.median_debt.completers.overall,latest.aid.median_debt.male_students,\"+\n",
    "    #\"latest.aid.median_debt.independent_students,latest.aid.median_debt.female_students,latest.aid.median_debt.dependent_students,\"+\n",
    "    \n",
    "    #religious affiliation\n",
    "    \"latest.school.religious_affiliation,\"+\n",
    "    \n",
    "    #undergrads age 25 and above\n",
    "    \"latest.student.share_25_older\"+\n",
    "    \n",
    "    #page marker\n",
    "    'page=0'\n",
    "    \n",
    "    \n",
    "}\n",
    "\n"
   ]
  },
  {
   "cell_type": "code",
   "execution_count": 3,
   "id": "d5aa3809",
   "metadata": {},
   "outputs": [],
   "source": [
    "# Initialize an empty list to store the data\n",
    "demographics_data = []\n",
    "#starting page is 0\n",
    "params1['page'] = 0\n",
    "\n",
    "#loop that will loop through the page until we reach page 6\n",
    "while params1['page'] < 7:\n",
    "    #api call\n",
    "    response = requests.get(url, params=params1).json()\n",
    "    next_page_results = response.get(\"results\", [])\n",
    "    demographics_data.extend(next_page_results)\n",
    "    #to go to the next page of results\n",
    "    params1['page'] += 1"
   ]
  },
  {
   "cell_type": "code",
   "execution_count": 4,
   "id": "698bbbbf",
   "metadata": {
    "scrolled": false
   },
   "outputs": [],
   "source": [
    "#create dataframe\n",
    "demographics_df = pd.DataFrame(demographics_data)\n",
    "#fill na columns to 0\n",
    "demographics_df = demographics_df.fillna(0)\n",
    "#drop unwanted columns\n",
    "demographics_df = demographics_df.drop(columns = ['latest.student.demographics.race_ethnicity.api_2000',\n",
    "                                                 'latest.school.region_id',\n",
    "                                                  'latest.school.religious_affiliation',\n",
    "                                                 'latest.school.zip'])"
   ]
  },
  {
   "cell_type": "code",
   "execution_count": 5,
   "id": "0da0cdba",
   "metadata": {},
   "outputs": [],
   "source": [
    "#rename columns\n",
    "demographics_clean = demographics_df.rename(columns={\n",
    "    'id':'School_Id',\n",
    "    'location.lat':'School Latitude',\n",
    "    'location.lon':'School Longitude',\n",
    "    'latest.school.name':'School Name',\n",
    "    'latest.student.size':'Student Count',\n",
    "    'latest.admissions.test_requirements':'Standardized Test required? (1:Required, 2:Recommended, 3:Neither required nor recommended , 4:Do not know, 5: Considered but not required)',\n",
    "    'latest.admissions.admission_rate.overall': 'Admission Rate',\n",
    "    'latest.completion.completion_rate_4yr_150nt':'4Yr Uni Completion Rates',\n",
    "    'latest.student.demographics.race_ethnicity.white': '% White Students',\n",
    "    'latest.student.demographics.race_ethnicity.hispanic':'% Hispanic Students',\n",
    "    'latest.student.demographics.race_ethnicity.black': '% Black Students',\n",
    "    'latest.student.demographics.race_ethnicity.asian': '% Asian Students',\n",
    "    'latest.student.demographics.race_ethnicity.aian': '% AIAN Students',\n",
    "    'latest.student.demographics.women':'% Female Students',\n",
    "    'latest.student.demographics.men':'% Male Students'})"
   ]
  },
  {
   "cell_type": "code",
   "execution_count": 6,
   "id": "4b2e9018",
   "metadata": {},
   "outputs": [],
   "source": [
    "#for loop to multiply the list of columns by 100 for the percent\n",
    "columns_percent = ['Admission Rate','4Yr Uni Completion Rates','% White Students',\n",
    "                  '% Hispanic Students','% Black Students','% Asian Students','% AIAN Students',\n",
    "                  '% Female Students', '% Male Students']\n",
    "for columns in columns_percent:\n",
    "    demographics_clean[columns] = demographics_clean[columns]*100"
   ]
  },
  {
   "cell_type": "code",
   "execution_count": 7,
   "id": "4efd9e14",
   "metadata": {
    "scrolled": true
   },
   "outputs": [],
   "source": [
    "#reorder columns\n",
    "demographics_clean = demographics_clean[['School_Id','School Name','Student Count',\n",
    "'Standardized Test required? (1:Required, 2:Recommended, 3:Neither required nor recommended , 4:Do not know, 5: Considered but not required)',\n",
    "'Admission Rate', '4Yr Uni Completion Rates', '% White Students',\n",
    "'% Hispanic Students', '% Black Students','% Asian Students', '% AIAN Students','% Female Students', '% Male Students',\n",
    "'School Latitude','School Longitude']]"
   ]
  },
  {
   "cell_type": "code",
   "execution_count": 8,
   "id": "c1f115cf",
   "metadata": {},
   "outputs": [],
   "source": [
    "#demographics_clean.to_csv('data/demographics.csv', index=False, header=True)\n",
    "demographics_clean = demographics_clean.drop_duplicates(subset='School Name')"
   ]
  },
  {
   "cell_type": "code",
   "execution_count": 9,
   "id": "e7b2f65c",
   "metadata": {},
   "outputs": [],
   "source": [
    "demographics_clean = demographics_clean.set_index('School Name')"
   ]
  },
  {
   "cell_type": "code",
   "execution_count": 11,
   "id": "37a03541",
   "metadata": {},
   "outputs": [],
   "source": [
    "demographics_clean.to_json('Jsons/demographics_clean.json', orient = 'index', compression = 'infer', index = 'true')"
   ]
  },
  {
   "cell_type": "code",
   "execution_count": 20,
   "id": "14ea4c23",
   "metadata": {},
   "outputs": [],
   "source": [
    "#male/female\n",
    "url = 'https://api.data.gov/ed/collegescorecard/v1/schools.json'\n",
    "params3 = {\n",
    "    'api_key': doe_key,\n",
    "    'per_page': 250,\n",
    "    'fields': \"id,location.lon,location.lat,latest.school.name,\"+\n",
    "    \n",
    "    #male \n",
    "    #general completion\n",
    "    \"latest.completion.title_iv.male.completed_by.2yrs,latest.completion.title_iv.male.completed_by.3yrs,\"+\n",
    "    \"latest.completion.title_iv.male.completed_by.4yrs,latest.completion.title_iv.male.completed_by.6yrs,\"+\n",
    "    \"latest.completion.title_iv.male.completed_by.8yrs,\"+\n",
    "    #general withdrew\n",
    "    \"latest.completion.title_iv.male.withdrawn_by.2yrs,latest.completion.title_iv.male.withdrawn_by.3yrs,\"+\n",
    "    \"latest.completion.title_iv.male.withdrawn_by.4yrs,latest.completion.title_iv.male.withdrawn_by.6yrs,\"+\n",
    "    \"latest.completion.title_iv.male.withdrawn_by.8yrs,\"+\n",
    "    \n",
    "    \n",
    "    #female \n",
    "    #general completion\n",
    "    \"latest.completion.title_iv.female.completed_by.2yrs,latest.completion.title_iv.female.completed_by.3yrs,\"+\n",
    "    \"latest.completion.title_iv.female.completed_by.4yrs,latest.completion.title_iv.female.completed_by.6yrs,\"+\n",
    "    \"latest.completion.title_iv.female.completed_by.8yrs,\"+\n",
    "    #general withdrew\n",
    "    \"latest.completion.title_iv.female.withdrawn_by.2yrs,latest.completion.title_iv.female.withdrawn_by.3yrs,\"+\n",
    "    \"latest.completion.title_iv.female.withdrawn_by.4yrs,latest.completion.title_iv.female.withdrawn_by.6yrs,\"+\n",
    "    \"latest.completion.title_iv.female.withdrawn_by.8yrs,\"+\n",
    "    \n",
    "    #page marker\n",
    "    'page=0'\n",
    "    \n",
    "}"
   ]
  },
  {
   "cell_type": "code",
   "execution_count": 21,
   "id": "3440d8ae",
   "metadata": {},
   "outputs": [],
   "source": [
    "# Initialize an empty list to store the data\n",
    "gender_completion = []\n",
    "#starting page is 0\n",
    "params3['page'] = 0\n",
    "\n",
    "#loop that will loop through the page until we reach page 6\n",
    "while params3['page'] < 7:\n",
    "    #api call\n",
    "    response = requests.get(url, params=params3).json()\n",
    "    next_page_results = response.get(\"results\", [])\n",
    "    gender_completion.extend(next_page_results)\n",
    "    #to go to the next page of results\n",
    "    params3['page'] += 1"
   ]
  },
  {
   "cell_type": "code",
   "execution_count": 22,
   "id": "56e1f165",
   "metadata": {
    "scrolled": false
   },
   "outputs": [],
   "source": [
    "#create dataframe\n",
    "gender_completion_df = pd.DataFrame(gender_completion)\n",
    "#fill nan values to 0\n",
    "gender_completion_df = gender_completion_df.fillna(0)\n",
    "#rename columns\n",
    "gender_completion_clean = gender_completion_df.rename(columns = {\n",
    "        'id':'School_Id',\n",
    "        'location.lat':'School Latitude',\n",
    "        'location.lon':'School Longitude',\n",
    "        'latest.school.name': 'School Name',\n",
    "       'latest.completion.title_iv.male.completed_by.2yrs':'% Male Students Completed within 2yrs',\n",
    "       'latest.completion.title_iv.male.completed_by.3yrs':'% Male Students Completed within 3yrs',\n",
    "       'latest.completion.title_iv.male.completed_by.4yrs':'% Male Students Completed within 4yrs',\n",
    "       'latest.completion.title_iv.male.completed_by.6yrs':'% Male Students Completed within 6yrs',\n",
    "       'latest.completion.title_iv.male.completed_by.8yrs':'% Male Students Completed within 8yrs',\n",
    "       'latest.completion.title_iv.male.withdrawn_by.2yrs':'% Male Students Withdrawn by 2yrs',\n",
    "       'latest.completion.title_iv.male.withdrawn_by.3yrs':'% Male Students Withdrawn by 3yrs',\n",
    "       'latest.completion.title_iv.male.withdrawn_by.4yrs':'% Male Students Withdrawn by 4yrs',\n",
    "       'latest.completion.title_iv.male.withdrawn_by.6yrs':'% Male Students Withdrawn by 6yrs',\n",
    "       'latest.completion.title_iv.male.withdrawn_by.8yrs':'% Male Students Withdrawn by 8yrs',\n",
    "       'latest.completion.title_iv.female.completed_by.2yrs':'% Female Students Completed within 2yrs',\n",
    "       'latest.completion.title_iv.female.completed_by.3yrs':'% Female Students Completed within 3yrs',\n",
    "       'latest.completion.title_iv.female.completed_by.4yrs':'% Female Students Completed within 4yrs',\n",
    "       'latest.completion.title_iv.female.completed_by.6yrs':'% Female Students Completed within 6yrs',\n",
    "       'latest.completion.title_iv.female.completed_by.8yrs':'% Female Students Completed within 8yrs',\n",
    "       'latest.completion.title_iv.female.withdrawn_by.2yrs':'% Female Students Withdrawn by 2yrs',\n",
    "       'latest.completion.title_iv.female.withdrawn_by.3yrs':'% Female Students Withdrawn by 3yrs',\n",
    "       'latest.completion.title_iv.female.withdrawn_by.4yrs':'% Female Students Withdrawn by 4yrs',\n",
    "       'latest.completion.title_iv.female.withdrawn_by.6yrs':'% Female Students Withdrawn by 6yrs',\n",
    "       'latest.completion.title_iv.female.withdrawn_by.8yrs':'% Female Students Withdrawn by 8yrs'\n",
    "    \n",
    "})"
   ]
  },
  {
   "cell_type": "code",
   "execution_count": 23,
   "id": "f316ad32",
   "metadata": {},
   "outputs": [
    {
     "data": {
      "text/plain": [
       "Index(['School Name', '% Male Students Completed within 2yrs',\n",
       "       '% Male Students Completed within 3yrs',\n",
       "       '% Male Students Completed within 4yrs',\n",
       "       '% Male Students Completed within 6yrs',\n",
       "       '% Male Students Completed within 8yrs',\n",
       "       '% Male Students Withdrawn by 2yrs',\n",
       "       '% Male Students Withdrawn by 3yrs',\n",
       "       '% Male Students Withdrawn by 4yrs',\n",
       "       '% Male Students Withdrawn by 6yrs',\n",
       "       '% Male Students Withdrawn by 8yrs',\n",
       "       '% Female Students Completed within 2yrs',\n",
       "       '% Female Students Completed within 3yrs',\n",
       "       '% Female Students Completed within 4yrs',\n",
       "       '% Female Students Completed within 6yrs',\n",
       "       '% Female Students Completed within 8yrs',\n",
       "       '% Female Students Withdrawn by 2yrs',\n",
       "       '% Female Students Withdrawn by 3yrs',\n",
       "       '% Female Students Withdrawn by 4yrs',\n",
       "       '% Female Students Withdrawn by 6yrs',\n",
       "       '% Female Students Withdrawn by 8yrs', 'School_Id', 'School Latitude',\n",
       "       'School Longitude'],\n",
       "      dtype='object')"
      ]
     },
     "execution_count": 23,
     "metadata": {},
     "output_type": "execute_result"
    }
   ],
   "source": [
    "gender_completion_clean.columns"
   ]
  },
  {
   "cell_type": "code",
   "execution_count": 24,
   "id": "958a739e",
   "metadata": {},
   "outputs": [],
   "source": [
    "gender_completion_clean = gender_completion_clean[['School_Id','School Name', \n",
    "        '% Male Students Completed within 2yrs',\n",
    "       '% Male Students Completed within 3yrs',\n",
    "       '% Male Students Completed within 4yrs',\n",
    "       '% Male Students Completed within 6yrs',\n",
    "       '% Male Students Completed within 8yrs',\n",
    "       '% Male Students Withdrawn by 2yrs',\n",
    "       '% Male Students Withdrawn by 3yrs',\n",
    "       '% Male Students Withdrawn by 4yrs',\n",
    "       '% Male Students Withdrawn by 6yrs',\n",
    "       '% Male Students Withdrawn by 8yrs',\n",
    "       '% Female Students Completed within 2yrs',\n",
    "       '% Female Students Completed within 3yrs',\n",
    "       '% Female Students Completed within 4yrs',\n",
    "       '% Female Students Completed within 6yrs',\n",
    "       '% Female Students Completed within 8yrs',\n",
    "       '% Female Students Withdrawn by 2yrs',\n",
    "       '% Female Students Withdrawn by 3yrs',\n",
    "       '% Female Students Withdrawn by 4yrs',\n",
    "       '% Female Students Withdrawn by 6yrs',\n",
    "       '% Female Students Withdrawn by 8yrs']]"
   ]
  },
  {
   "cell_type": "code",
   "execution_count": 10,
   "id": "d5366730",
   "metadata": {},
   "outputs": [],
   "source": [
    "#for loop to convert floats to percentage\n",
    "for i in gender_completion_clean.columns[2:]:\n",
    "    gender_completion_clean[i] = gender_completion_clean[i] * 100"
   ]
  },
  {
   "cell_type": "code",
   "execution_count": 11,
   "id": "73a53854",
   "metadata": {},
   "outputs": [
    {
     "data": {
      "text/plain": [
       "Index(['School_Id', 'School Name', '% Male Students Completed within 2yrs',\n",
       "       '% Male Students Completed within 3yrs',\n",
       "       '% Male Students Completed within 4yrs',\n",
       "       '% Male Students Completed within 6yrs',\n",
       "       '% Male Students Completed within 8yrs',\n",
       "       '% Male Students Withdrawn by 2yrs',\n",
       "       '% Male Students Withdrawn by 3yrs',\n",
       "       '% Male Students Withdrawn by 4yrs',\n",
       "       '% Male Students Withdrawn by 6yrs',\n",
       "       '% Male Students Withdrawn by 8yrs',\n",
       "       '% Female Students Completed within 2yrs',\n",
       "       '% Female Students Completed within 3yrs',\n",
       "       '% Female Students Completed within 4yrs',\n",
       "       '% Female Students Completed within 6yrs',\n",
       "       '% Female Students Completed within 8yrs',\n",
       "       '% Female Students Withdrawn by 2yrs',\n",
       "       '% Female Students Withdrawn by 3yrs',\n",
       "       '% Female Students Withdrawn by 4yrs',\n",
       "       '% Female Students Withdrawn by 6yrs',\n",
       "       '% Female Students Withdrawn by 8yrs'],\n",
       "      dtype='object')"
      ]
     },
     "execution_count": 11,
     "metadata": {},
     "output_type": "execute_result"
    }
   ],
   "source": [
    "gender_completion_clean.columns"
   ]
  },
  {
   "cell_type": "code",
   "execution_count": 12,
   "id": "409147a9",
   "metadata": {},
   "outputs": [],
   "source": [
    "gender_completion_clean = gender_completion_clean.drop_duplicates(subset='School Name')"
   ]
  },
  {
   "cell_type": "code",
   "execution_count": 13,
   "id": "629ad001",
   "metadata": {
    "scrolled": true
   },
   "outputs": [],
   "source": [
    "gender_completion_clean = gender_completion_clean.set_index('School Name')"
   ]
  },
  {
   "cell_type": "code",
   "execution_count": 14,
   "id": "b1146fe9",
   "metadata": {},
   "outputs": [],
   "source": [
    "#gender_completion_clean.to_csv('data/gender_completion.csv', index=False, header=True)"
   ]
  },
  {
   "cell_type": "code",
   "execution_count": 15,
   "id": "67282556",
   "metadata": {},
   "outputs": [],
   "source": [
    "gender_completion_clean.to_json('Jsons/gender_completion_clean.json', orient = 'index', compression = 'infer', index = 'true')"
   ]
  },
  {
   "cell_type": "code",
   "execution_count": 16,
   "id": "a784604d",
   "metadata": {},
   "outputs": [],
   "source": [
    "#gender_completion_clean['School Name'].astype(str).to_json('data/schools.json', orient = 'values', compression = 'infer', index = 'true')"
   ]
  },
  {
   "cell_type": "code",
   "execution_count": 17,
   "id": "23b7f7e8",
   "metadata": {},
   "outputs": [],
   "source": [
    "gender_completion_clean.to_csv('CSVs/gender_completion_clean.csv')"
   ]
  },
  {
   "cell_type": "code",
   "execution_count": 18,
   "id": "ddc07ef4",
   "metadata": {},
   "outputs": [
    {
     "data": {
      "text/plain": [
       "Index(['School_Id', '% Male Students Completed within 2yrs',\n",
       "       '% Male Students Completed within 3yrs',\n",
       "       '% Male Students Completed within 4yrs',\n",
       "       '% Male Students Completed within 6yrs',\n",
       "       '% Male Students Completed within 8yrs',\n",
       "       '% Male Students Withdrawn by 2yrs',\n",
       "       '% Male Students Withdrawn by 3yrs',\n",
       "       '% Male Students Withdrawn by 4yrs',\n",
       "       '% Male Students Withdrawn by 6yrs',\n",
       "       '% Male Students Withdrawn by 8yrs',\n",
       "       '% Female Students Completed within 2yrs',\n",
       "       '% Female Students Completed within 3yrs',\n",
       "       '% Female Students Completed within 4yrs',\n",
       "       '% Female Students Completed within 6yrs',\n",
       "       '% Female Students Completed within 8yrs',\n",
       "       '% Female Students Withdrawn by 2yrs',\n",
       "       '% Female Students Withdrawn by 3yrs',\n",
       "       '% Female Students Withdrawn by 4yrs',\n",
       "       '% Female Students Withdrawn by 6yrs',\n",
       "       '% Female Students Withdrawn by 8yrs'],\n",
       "      dtype='object')"
      ]
     },
     "execution_count": 18,
     "metadata": {},
     "output_type": "execute_result"
    }
   ],
   "source": [
    "gender_completion_clean.columns"
   ]
  },
  {
   "cell_type": "code",
   "execution_count": null,
   "id": "32d673ac",
   "metadata": {},
   "outputs": [],
   "source": []
  }
 ],
 "metadata": {
  "kernelspec": {
   "display_name": "Python 3 (ipykernel)",
   "language": "python",
   "name": "python3"
  },
  "language_info": {
   "codemirror_mode": {
    "name": "ipython",
    "version": 3
   },
   "file_extension": ".py",
   "mimetype": "text/x-python",
   "name": "python",
   "nbconvert_exporter": "python",
   "pygments_lexer": "ipython3",
   "version": "3.7.7"
  }
 },
 "nbformat": 4,
 "nbformat_minor": 5
}
